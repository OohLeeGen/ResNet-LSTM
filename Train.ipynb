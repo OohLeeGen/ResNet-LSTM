{
 "cells": [
  {
   "cell_type": "code",
   "execution_count": 1,
   "id": "1c836dc5-a8b2-4096-8cbd-2f38f615234b",
   "metadata": {
    "ExecuteTime": {
     "start_time": "2024-05-28T16:17:01.482928Z",
     "end_time": "2024-05-28T16:17:07.130162Z"
    }
   },
   "outputs": [],
   "source": [
    "import os  # 用于处理文件和目录\n",
    "import torch  # 导入PyTorch，用于构建和训练深度学习模型\n",
    "import numpy as np  # 导入NumPy库，用于处理数值计算\n",
    "from torch.utils.data import Dataset, DataLoader  # 导入PyTorch的数据处理模块\n",
    "from PIL import Image  # 导入PIL库，用于图像文件的读取和处理\n",
    "from torchvision import transforms  # 导入torchvision的transforms模块，用于图像预处理\n",
    "from torch.utils.data.sampler import SubsetRandomSampler  # 导入用于数据采样的工具\n",
    "import torch.nn as nn  # 导入PyTorch的神经网络模块\n",
    "import torchvision.models as models  # 导入预训练模型"
   ]
  },
  {
   "cell_type": "code",
   "execution_count": 2,
   "id": "46bf0b3b",
   "metadata": {
    "ExecuteTime": {
     "start_time": "2024-05-28T16:17:07.125180Z",
     "end_time": "2024-05-28T16:17:08.405686Z"
    },
    "collapsed": false,
    "jupyter": {
     "outputs_hidden": false
    }
   },
   "outputs": [
    {
     "name": "stdout",
     "output_type": "stream",
     "text": [
      "cuda\n"
     ]
    }
   ],
   "source": [
    "### 准备\n",
    "# 检查CUDA是否可用，并选择设备\n",
    "device = torch.device(\"cuda\" if torch.cuda.is_available() else \"cpu\")\n",
    "print(device)\n",
    "# 定义图像预处理变换\n",
    "transform = transforms.Compose([\n",
    "    transforms.Resize((400, 400)),  # 将图像大小统一调整到400x400\n",
    "    transforms.ToTensor()\n",
    "])"
   ]
  },
  {
   "cell_type": "code",
   "execution_count": 3,
   "id": "9e8ce6c9-4f5d-437b-8a5f-369991624eb1",
   "metadata": {
    "ExecuteTime": {
     "start_time": "2024-05-28T16:17:08.396713Z",
     "end_time": "2024-05-28T16:17:08.405686Z"
    }
   },
   "outputs": [],
   "source": [
    "# 数据集的获取与封装类\n",
    "class ImgSeq(Dataset):\n",
    "    def __init__(self, root_dir, transform=None):\n",
    "        self.root_dir = root_dir\n",
    "        self.transform = transform\n",
    "        self.data = []  # 用于存储完整图像路径\n",
    "        self.labels = []  # 用于存储图像对应的标签\n",
    "        self.folder_path=[]\n",
    "        # 路径操作 遍历图片序列文件夹，收集数据和标签\n",
    "        for index, sub_path_name in enumerate(['injFail', 'injSuccess']):\n",
    "            dir_path = os.path.join(root_dir, sub_path_name)  # 构造文件夹路径\n",
    "            for folder_name in os.listdir(dir_path):  # 遍历文件夹中的所有文件\n",
    "                path = os.path.join(dir_path, folder_name)  # 构造序列文件夹的完整路径\n",
    "                if os.path.isdir(path):  # 检查是否为目录\n",
    "                    self.folder_path.append(path)\n",
    "                    self.data.append([os.path.join(path, img) for img in sorted(os.listdir(path))])\n",
    "                    # sorted保证序列的顺序性，防止序列图片被打乱\n",
    "                    self.labels.append(index)  # 保存对应的标签（0为失败，1为成功）\n",
    "    def __len__(self):# 定义类的长度返回方法\n",
    "        return len(self.data)\n",
    "    def __getitem__(self, idx): # 定义getitem方法 允许类使用索引操作\n",
    "        img_seq = self.data[idx] # 取对应索引的图片序列\n",
    "        images = [Image.open(img).convert('L') for img in img_seq]  # PIL库的图片操作 转化为灰度图\n",
    "        images = [self.transform(img) for img in images]  # 对每个图像应用预处理变换\n",
    "        images = torch.stack(images)  # 图像堆叠成新张量\n",
    "        label = self.labels[idx]\n",
    "        return images, label  # 返回处理后的图像堆叠和标签\n",
    "    pass"
   ]
  },
  {
   "cell_type": "code",
   "execution_count": 4,
   "id": "51c6a8b3-aa30-4cce-a1bd-65ca884ec691",
   "metadata": {
    "ExecuteTime": {
     "start_time": "2024-05-28T16:17:08.406681Z",
     "end_time": "2024-05-28T16:17:08.423097Z"
    }
   },
   "outputs": [],
   "source": [
    "### 所有网络模块的定义\n",
    "# 定义CNN模块，用于特征提取\n",
    "class SqCNN(nn.Module):\n",
    "    def __init__(self):\n",
    "        super(SqCNN, self).__init__()\n",
    "        # 加载预训练的模型单通道输入ResNet-18预训练模型\n",
    "        resnet = models.resnet18(pretrained=True)\n",
    "        resnet.conv1 = nn.Conv2d(1, 64, kernel_size=(3, 3), stride=(2, 2), padding=(2, 2), bias=False)\n",
    "        # 迁移学习，我们需要去除最后一个全连接层\n",
    "        # 重用ResNet的特征提取能力，而用自己的分类层替换掉原有的分类层，以便适应新的任务或类别数。\n",
    "        self.features = nn.Sequential(*list(resnet.children())[:-1])\n",
    "        # 添加Dropout层，用于减少过拟合\n",
    "        self.dropout = nn.Dropout(p=0.3)\n",
    "    def forward(self, x):\n",
    "        # x的维度是[batch_size, seq_len, channels, height, width]\n",
    "        # 正确的维度应该是：4 8 1 400 400\n",
    "        batch_size, seq_len, c, h, w = x.size()\n",
    "        # 合并批次和序列长度，使其适合CNN输入\n",
    "        x = x.view(batch_size * seq_len, c, h, w)\n",
    "        x = self.features(x)\n",
    "        # 重新解放维度，还原批次和序列长度\n",
    "        x = x.view(batch_size, seq_len, -1)\n",
    "        x = self.dropout(x)\n",
    "        return x\n",
    "# 定义LSTM与注意力机制模块\n",
    "class LSTM_Attention(nn.Module):\n",
    "    def __init__(self, input_dim, hidden_dim, num_layers, num_classes):\n",
    "        super(LSTM_Attention, self).__init__()\n",
    "        # 定义LSTM层\n",
    "        self.lstm = nn.LSTM(input_dim, hidden_dim, num_layers, batch_first=True)\n",
    "        # 添加Dropout层\n",
    "        self.dropout = nn.Dropout(p=0.3)\n",
    "        # 定义注意力层，用于为每个时间步的隐藏状态分配权重\n",
    "        self.attention_layer = nn.Linear(hidden_dim, 1)\n",
    "        # 定义全连接层，用于分类\n",
    "        self.fc = nn.Linear(hidden_dim, num_classes)\n",
    "    def forward(self, x):\n",
    "        # 通过LSTM处理输入\n",
    "        lstm_out, _ = self.lstm(x)\n",
    "        # 应用Dropout\n",
    "        lstm_out = self.dropout(lstm_out)\n",
    "        # 生成注意力权重\n",
    "        attention_weights = torch.softmax(self.attention_layer(lstm_out), dim=1)\n",
    "        # 计算加权的上下文向量\n",
    "        context_vector = torch.sum(lstm_out * attention_weights, dim=1)\n",
    "        # 通过全连接层得到最终输出\n",
    "        out = self.fc(context_vector)\n",
    "        return out\n",
    "# 整体模型结构 串联CNN和LSTM两个模型\n",
    "class CNNLSTM(nn.Module):\n",
    "    def __init__(self):\n",
    "        super(CNNLSTM, self).__init__()\n",
    "        # 初始化CNN特征提取器\n",
    "        self.cnn = SqCNN()\n",
    "        # 初始化LSTM与注意力机制模块\n",
    "        self.lstm_attention = LSTM_Attention(input_dim=512, hidden_dim=128, num_layers=1, num_classes=2)\n",
    "    def forward(self, x):\n",
    "        # 从CNN获取特征\n",
    "        cnn_features = self.cnn(x)\n",
    "        # 使用特征通过LSTM和注意力机制模块得到输出\n",
    "        output = self.lstm_attention(cnn_features)\n",
    "        return output"
   ]
  },
  {
   "cell_type": "code",
   "execution_count": 5,
   "id": "8b7e9f7b-757c-4188-a9ed-154671c92ff0",
   "metadata": {
    "ExecuteTime": {
     "start_time": "2024-05-28T16:17:08.417644Z",
     "end_time": "2024-05-28T16:17:08.423097Z"
    }
   },
   "outputs": [],
   "source": [
    "# 定义函数用于创建训练和验证数据的采样器\n",
    "def get_train_val_sampler(train_dataset):\n",
    "    dataset_size = len(train_dataset)  # 获取数据集的大小\n",
    "    indices = list(range(dataset_size))  # 创建索引列表\n",
    "    np.random.shuffle(indices)  # 随机打乱索引\n",
    "    split = int(np.floor(0.15 * dataset_size))  # 计算验证集大小为数据集的15%\n",
    "    train_indices, val_indices = indices[split:], indices[:split]  # 分割训练集和验证集索引\n",
    "    # 创建SubsetRandomSampler对象，这些对象将被用于DataLoader以抽样数据\n",
    "    train_sampler = SubsetRandomSampler(train_indices)\n",
    "    valid_sampler = SubsetRandomSampler(val_indices)\n",
    "    return train_sampler, valid_sampler  # 返回训练集和验证集的采样器\n",
    "# 定义函数用于训练和验证模型\n",
    "def train_model(model, train_loader, valid_loader, criterion, optimizer, epochs=100):\n",
    "    train_losses_list=[];train_accuracy_list=[]\n",
    "    valid_losses_list=[];valid_accuracy_list=[]\n",
    "    for epoch in range(epochs):  # 迭代指定的轮次\n",
    "        model.train()  # 设置模型为训练模式\n",
    "        running_loss = 0.0\n",
    "        correct = 0  # 记录正确预测的数量\n",
    "        total = 0  # 记录处理的总样本数\n",
    "        for images, labels in train_loader:  # 从训练加载器中迭代数据\n",
    "            images, labels = images.to(device), labels.to(device)  # 移动数据至设备\n",
    "            optimizer.zero_grad()  # 梯度清零\n",
    "            outputs = model(images)  # 前向传播\n",
    "            loss = criterion(outputs, labels)  # 计算损失\n",
    "            loss.backward()  # 反向传播\n",
    "            # max_grad_norm = 5  # 设置梯度裁剪阈值\n",
    "            # torch.nn.utils.clip_grad_norm_(model.parameters(), max_grad_norm)  # 应用梯度裁剪\n",
    "            optimizer.step()  # 更新模型参数\n",
    "            running_loss += loss.item()  # 累加损失\n",
    "            _, predicted = outputs.max(1)  # 获取预测结果\n",
    "            total += labels.size(0)  # 更新总样本数\n",
    "            correct += predicted.eq(labels).sum().item()  # 更新正确预测数\n",
    "        average_loss = running_loss / len(train_loader)  # 计算平均损失\n",
    "        # 设置模型为评估模式\n",
    "        model.eval()\n",
    "        with torch.no_grad():  # 不计算梯度\n",
    "            val_loss, val_correct, val_total = 0, 0, 0\n",
    "            for images, labels in valid_loader:\n",
    "                images, labels = images.to(device), labels.to(device)\n",
    "                outputs = model(images)\n",
    "                loss = criterion(outputs, labels)\n",
    "                val_loss += loss.item()\n",
    "                _, predicted = outputs.max(1)\n",
    "                val_total += labels.size(0)\n",
    "                val_correct += predicted.eq(labels).sum().item()\n",
    "        print(f'Epoch {epoch+1}/{epochs}, Train Loss: {average_loss:.4f},Train Acc:{correct/total*100:.2f}%, Val Loss: {val_loss/val_total:.4f}, Val Acc: {val_correct/val_total*100:.2f}%')\n",
    "        train_losses_list.append(average_loss),train_accuracy_list.append(correct/total)\n",
    "        valid_losses_list.append(val_loss/val_total),valid_accuracy_list.append(val_correct/val_total)\n",
    "        pass\n",
    "    return train_losses_list,train_accuracy_list,valid_losses_list,valid_accuracy_list"
   ]
  },
  {
   "cell_type": "code",
   "execution_count": 6,
   "id": "4fd56f83",
   "metadata": {
    "ExecuteTime": {
     "start_time": "2024-05-28T16:17:08.424094Z",
     "end_time": "2024-05-28T16:17:13.615412Z"
    },
    "collapsed": false,
    "jupyter": {
     "outputs_hidden": false
    }
   },
   "outputs": [
    {
     "name": "stderr",
     "output_type": "stream",
     "text": [
      "C:\\Users\\29797\\.conda\\envs\\pytorch_use\\lib\\site-packages\\torchvision\\models\\_utils.py:208: UserWarning: The parameter 'pretrained' is deprecated since 0.13 and may be removed in the future, please use 'weights' instead.\n",
      "  warnings.warn(\n",
      "C:\\Users\\29797\\.conda\\envs\\pytorch_use\\lib\\site-packages\\torchvision\\models\\_utils.py:223: UserWarning: Arguments other than a weight enum or `None` for 'weights' are deprecated since 0.13 and may be removed in the future. The current behavior is equivalent to passing `weights=ResNet18_Weights.IMAGENET1K_V1`. You can also use `weights=ResNet18_Weights.DEFAULT` to get the most up-to-date weights.\n",
      "  warnings.warn(msg)\n"
     ]
    }
   ],
   "source": [
    "# main\n",
    "train_dataset = ImgSeq(root_dir='injection-dataset_train', transform=transform)\n",
    "train_sampler, val_sampler = get_train_val_sampler(train_dataset)\n",
    "train_loader = DataLoader(train_dataset, batch_size=4, sampler=train_sampler, num_workers=0)\n",
    "valid_loader = DataLoader(train_dataset, batch_size=4, sampler=val_sampler, num_workers=0)\n",
    "model = CNNLSTM().to(device)  # 创建模型并转移到设备上\n",
    "criterion = nn.CrossEntropyLoss()  # 交叉熵损失函数\n",
    "optimizer = torch.optim.Adam(model.parameters(), lr=0.00005)  # Adam优化器"
   ]
  },
  {
   "cell_type": "code",
   "execution_count": null,
   "id": "13b6ccca",
   "metadata": {
    "ExecuteTime": {
     "start_time": "2024-05-28T10:30:48.780692Z",
     "end_time": "2024-05-28T10:59:50.579071Z"
    },
    "collapsed": false,
    "jupyter": {
     "outputs_hidden": false
    },
    "pycharm": {
     "is_executing": true
    }
   },
   "outputs": [
    {
     "name": "stdout",
     "output_type": "stream",
     "text": [
      "Epoch 1/100, Train Loss: 0.6863,Train Acc:52.94%, Val Loss: 0.1706, Val Acc: 50.00%\n",
      "Epoch 2/100, Train Loss: 0.5550,Train Acc:80.88%, Val Loss: 0.1684, Val Acc: 58.33%\n",
      "Epoch 3/100, Train Loss: 0.3868,Train Acc:95.59%, Val Loss: 0.2313, Val Acc: 50.00%\n",
      "Epoch 4/100, Train Loss: 0.3176,Train Acc:95.59%, Val Loss: 0.2009, Val Acc: 58.33%\n",
      "Epoch 5/100, Train Loss: 0.2544,Train Acc:92.65%, Val Loss: 0.0431, Val Acc: 100.00%\n",
      "Epoch 6/100, Train Loss: 0.2744,Train Acc:89.71%, Val Loss: 0.0432, Val Acc: 91.67%\n",
      "Epoch 7/100, Train Loss: 0.2311,Train Acc:89.71%, Val Loss: 0.0410, Val Acc: 100.00%\n",
      "Epoch 8/100, Train Loss: 0.3607,Train Acc:80.88%, Val Loss: 0.0637, Val Acc: 91.67%\n",
      "Epoch 9/100, Train Loss: 0.2313,Train Acc:94.12%, Val Loss: 0.0567, Val Acc: 83.33%\n",
      "Epoch 10/100, Train Loss: 0.1827,Train Acc:94.12%, Val Loss: 0.0244, Val Acc: 100.00%\n",
      "Epoch 11/100, Train Loss: 0.1777,Train Acc:92.65%, Val Loss: 0.0188, Val Acc: 100.00%\n",
      "Epoch 12/100, Train Loss: 0.1533,Train Acc:95.59%, Val Loss: 0.0588, Val Acc: 91.67%\n",
      "Epoch 13/100, Train Loss: 0.1210,Train Acc:97.06%, Val Loss: 0.0351, Val Acc: 91.67%\n",
      "Epoch 14/100, Train Loss: 0.2542,Train Acc:86.76%, Val Loss: 0.0478, Val Acc: 83.33%\n",
      "Epoch 15/100, Train Loss: 0.2076,Train Acc:94.12%, Val Loss: 0.0623, Val Acc: 91.67%\n",
      "Epoch 16/100, Train Loss: 0.1900,Train Acc:91.18%, Val Loss: 0.0557, Val Acc: 91.67%\n",
      "Epoch 17/100, Train Loss: 0.1665,Train Acc:91.18%, Val Loss: 0.0579, Val Acc: 91.67%\n",
      "Epoch 18/100, Train Loss: 0.0495,Train Acc:100.00%, Val Loss: 0.0402, Val Acc: 91.67%\n",
      "Epoch 19/100, Train Loss: 0.1225,Train Acc:95.59%, Val Loss: 0.0614, Val Acc: 91.67%\n",
      "Epoch 20/100, Train Loss: 0.0874,Train Acc:95.59%, Val Loss: 0.0892, Val Acc: 83.33%\n",
      "Epoch 21/100, Train Loss: 0.0916,Train Acc:98.53%, Val Loss: 0.0643, Val Acc: 91.67%\n",
      "Epoch 22/100, Train Loss: 0.1106,Train Acc:97.06%, Val Loss: 0.0447, Val Acc: 91.67%\n",
      "Epoch 23/100, Train Loss: 0.0437,Train Acc:100.00%, Val Loss: 0.0271, Val Acc: 91.67%\n",
      "Epoch 24/100, Train Loss: 0.0866,Train Acc:97.06%, Val Loss: 0.0616, Val Acc: 91.67%\n"
     ]
    }
   ],
   "source": [
    "# 训练模型\n",
    "epochs=100\n",
    "train_losses_list,train_accuracy_list,valid_losses_list,valid_accuracy_list=train_model(model, train_loader, valid_loader, criterion, optimizer,epochs)  # 开始训练和验证模型"
   ]
  },
  {
   "cell_type": "code",
   "execution_count": null,
   "id": "f8bb89c1-30f0-4f92-ac2e-fac7b02e0486",
   "metadata": {
    "ExecuteTime": {
     "start_time": "2024-05-28T11:00:07.926875Z",
     "end_time": "2024-05-28T11:00:08.794391Z"
    },
    "tags": [],
    "pycharm": {
     "is_executing": true
    }
   },
   "outputs": [],
   "source": [
    "# 保存训练好的模型\n",
    "model_name='model1.pth'\n",
    "torch.save(model.state_dict(), model_name)"
   ]
  },
  {
   "cell_type": "code",
   "execution_count": null,
   "id": "7c9aa4a1-525a-4097-9e49-835153578b0e",
   "metadata": {
    "ExecuteTime": {
     "start_time": "2024-05-28T11:00:31.908786Z",
     "end_time": "2024-05-28T11:00:34.736746Z"
    },
    "pycharm": {
     "is_executing": true
    }
   },
   "outputs": [],
   "source": [
    "# 加载模型函数we\n",
    "def load_model(model_path):\n",
    "    model = CNNLSTM()\n",
    "    model.load_state_dict(torch.load(model_path))  # 加载模型参数\n",
    "    model.eval()  # 模型设为评估模式\n",
    "    return model\n",
    "# 预测函数，并计算准确率\n",
    "def predict(model, data_loader):\n",
    "    model.eval()  # 模型设为评估模式\n",
    "    correct = 0\n",
    "    total = 0\n",
    "    results = []\n",
    "    model = model.to(device)\n",
    "    with torch.no_grad():  # 禁用梯度计算\n",
    "        for images, labels in data_loader:\n",
    "            images = images.to(device)\n",
    "            labels = labels.to(device)\n",
    "            outputs = model(images)  # 前向传播\n",
    "            _, predicted = outputs.max(1)  # 获取预测结果\n",
    "            results.extend(predicted.cpu().numpy())  # 将结果存入列表\n",
    "            # 累计正确的预测数量\n",
    "            total += labels.size(0)\n",
    "            correct += predicted.eq(labels).sum().item()  # 累加正确预测数\n",
    "            pass\n",
    "        pass\n",
    "    accuracy = correct / total\n",
    "    return results, accuracy\n",
    "# 加载测试数据集\n",
    "test_dataset = ImgSeq(root_dir='injection-dataset_test', transform=transform)\n",
    "test_loader = DataLoader(test_dataset, batch_size=4, shuffle=False, num_workers=0)\n",
    "# 加载训练好的模型\n",
    "model = load_model(model_name)\n",
    "# 进行预测并计算准确率\n",
    "predictions, accuracy = predict(model, test_loader)\n",
    "# 输出预测结果\n",
    "for i, prediction in enumerate(predictions):\n",
    "    print(f'{test_dataset.folder_path[i]} : {\"Success\" if prediction == 1 else \"Fail\"}')\n",
    "print(f'Accuracy: {accuracy * 100:.2f}%')"
   ]
  },
  {
   "cell_type": "code",
   "execution_count": null,
   "id": "97cc6b90",
   "metadata": {
    "collapsed": false,
    "jupyter": {
     "outputs_hidden": false
    },
    "ExecuteTime": {
     "start_time": "2024-05-28T11:00:48.914259Z",
     "end_time": "2024-05-28T11:00:51.140483Z"
    },
    "pycharm": {
     "is_executing": true
    }
   },
   "outputs": [],
   "source": [
    "import matplotlib.pyplot as plt\n",
    "# 创建图表\n",
    "epochs_list=[i for i in range(1,epochs+1)]\n",
    "fig, ax1 = plt.subplots(facecolor='white')\n",
    "plt.rcParams['axes.edgecolor'] = 'black'\n",
    "plt.rcParams['axes.labelcolor'] = 'black'\n",
    "# 左边y轴Loss，使用暖色调\n",
    "color_loss = 'tab:orange'\n",
    "ax1.set_xlabel('Epochs', color='black')\n",
    "ax1.set_ylabel('Loss', color=color_loss)\n",
    "ax1.plot(epochs_list, train_losses_list, label='Training Loss', color=color_loss)\n",
    "ax1.plot(epochs_list, valid_losses_list, label='Validation Loss', linestyle='--', color='darkorange')\n",
    "ax1.tick_params(axis='y', labelcolor=color_loss)\n",
    "\n",
    "# 创建第二个y轴，用于Accuracy，使用冷色调\n",
    "ax2 = ax1.twinx()\n",
    "color_acc = 'tab:blue'\n",
    "ax2.set_ylabel('Accuracy', color=color_acc)\n",
    "ax2.plot(epochs_list, train_accuracy_list, label='Training Accuracy', color=color_acc)\n",
    "ax2.plot(epochs_list, valid_accuracy_list, label='Validation Accuracy', linestyle=':', color='skyblue')\n",
    "ax2.tick_params(axis='y', labelcolor=color_acc)\n",
    "# 设置标题，并优化图例位置\n",
    "plt.title('Training and Validation Loss & Accuracy Over Epochs', color='black')\n",
    "fig.tight_layout()\n",
    "handles, labels = [], []\n",
    "for ax in [ax1, ax2]:\n",
    "    for h, l in zip(*ax.get_legend_handles_labels()):\n",
    "        handles.append(h)\n",
    "        labels.append(l)\n",
    "plt.legend(handles, labels, loc='center right', framealpha=1)\n",
    "plt.grid(True, which='both', linestyle='--', linewidth=0.5, alpha=0.5)\n",
    "# 显示图形\n",
    "plt.show()"
   ]
  }
 ],
 "metadata": {
  "kernelspec": {
   "display_name": "Python 3 (ipykernel)",
   "language": "python",
   "name": "python3"
  },
  "language_info": {
   "codemirror_mode": {
    "name": "ipython",
    "version": 3
   },
   "file_extension": ".py",
   "mimetype": "text/x-python",
   "name": "python",
   "nbconvert_exporter": "python",
   "pygments_lexer": "ipython3",
   "version": "3.8.10"
  }
 },
 "nbformat": 4,
 "nbformat_minor": 5
}
